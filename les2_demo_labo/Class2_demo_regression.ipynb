{
 "cells": [
  {
   "cell_type": "markdown",
   "metadata": {},
   "source": [
    "# Supervised learning- regression"
   ]
  },
  {
   "cell_type": "markdown",
   "metadata": {},
   "source": [
    "Now that we know how to clean our data, we can start applying algorithms. In the assignment, you will further work on the real_estate dataset. But to learn the algorithms, we will use a very simple dataset, namely the 'scores'-dataset. This dataset contains the scores on the exam of 100 students and the amount of hours they spend studying. We will build a model to predict the score on the exam based on the amount of hours studying. (This is fictional data, please don't draw any conclusions on how many hours you have to study based on this.)."
   ]
  },
  {
   "cell_type": "markdown",
   "metadata": {},
   "source": [
    "## 0. Loading packages and dataset"
   ]
  },
  {
   "cell_type": "code",
   "execution_count": 1,
   "metadata": {},
   "outputs": [
    {
     "name": "stderr",
     "output_type": "stream",
     "text": [
      "C:\\Users\\tomas\\AppData\\Local\\Temp\\ipykernel_18368\\3818186681.py:7: MatplotlibDeprecationWarning: The seaborn styles shipped by Matplotlib are deprecated since 3.6, as they no longer correspond to the styles shipped by seaborn. However, they will remain available as 'seaborn-v0_8-<style>'. Alternatively, directly use the seaborn API instead.\n",
      "  plt.style.use('seaborn-darkgrid')\n"
     ]
    }
   ],
   "source": [
    "%matplotlib inline\n",
    "import numpy as np\n",
    "import pandas as pd\n",
    "import matplotlib as mpl\n",
    "import matplotlib.pyplot as plt\n",
    "import seaborn as sns\n",
    "plt.style.use('seaborn-darkgrid')"
   ]
  },
  {
   "cell_type": "code",
   "execution_count": 2,
   "metadata": {},
   "outputs": [],
   "source": [
    "df = pd.read_csv('scores.csv')"
   ]
  },
  {
   "cell_type": "markdown",
   "metadata": {},
   "source": [
    "The dataset is already cleaned, but not standardized yet. We will take a quick look at the data to get to know the dataset."
   ]
  },
  {
   "cell_type": "code",
   "execution_count": 3,
   "metadata": {},
   "outputs": [
    {
     "name": "stdout",
     "output_type": "stream",
     "text": [
      "<class 'pandas.core.frame.DataFrame'>\n",
      "RangeIndex: 100 entries, 0 to 99\n",
      "Data columns (total 2 columns):\n",
      " #   Column  Non-Null Count  Dtype  \n",
      "---  ------  --------------  -----  \n",
      " 0   hours   100 non-null    float64\n",
      " 1   scores  100 non-null    float64\n",
      "dtypes: float64(2)\n",
      "memory usage: 1.7 KB\n"
     ]
    }
   ],
   "source": [
    "df.info()"
   ]
  },
  {
   "cell_type": "code",
   "execution_count": 4,
   "metadata": {},
   "outputs": [
    {
     "data": {
      "text/html": [
       "<div>\n",
       "<style scoped>\n",
       "    .dataframe tbody tr th:only-of-type {\n",
       "        vertical-align: middle;\n",
       "    }\n",
       "\n",
       "    .dataframe tbody tr th {\n",
       "        vertical-align: top;\n",
       "    }\n",
       "\n",
       "    .dataframe thead th {\n",
       "        text-align: right;\n",
       "    }\n",
       "</style>\n",
       "<table border=\"1\" class=\"dataframe\">\n",
       "  <thead>\n",
       "    <tr style=\"text-align: right;\">\n",
       "      <th></th>\n",
       "      <th>hours</th>\n",
       "      <th>scores</th>\n",
       "    </tr>\n",
       "  </thead>\n",
       "  <tbody>\n",
       "    <tr>\n",
       "      <th>0</th>\n",
       "      <td>2.3</td>\n",
       "      <td>-0.4</td>\n",
       "    </tr>\n",
       "    <tr>\n",
       "      <th>1</th>\n",
       "      <td>12.1</td>\n",
       "      <td>3.7</td>\n",
       "    </tr>\n",
       "    <tr>\n",
       "      <th>2</th>\n",
       "      <td>17.5</td>\n",
       "      <td>12.6</td>\n",
       "    </tr>\n",
       "    <tr>\n",
       "      <th>3</th>\n",
       "      <td>5.4</td>\n",
       "      <td>-0.2</td>\n",
       "    </tr>\n",
       "    <tr>\n",
       "      <th>4</th>\n",
       "      <td>0.8</td>\n",
       "      <td>-0.8</td>\n",
       "    </tr>\n",
       "    <tr>\n",
       "      <th>5</th>\n",
       "      <td>15.5</td>\n",
       "      <td>12.2</td>\n",
       "    </tr>\n",
       "    <tr>\n",
       "      <th>6</th>\n",
       "      <td>11.8</td>\n",
       "      <td>2.2</td>\n",
       "    </tr>\n",
       "    <tr>\n",
       "      <th>7</th>\n",
       "      <td>17.6</td>\n",
       "      <td>12.5</td>\n",
       "    </tr>\n",
       "    <tr>\n",
       "      <th>8</th>\n",
       "      <td>11.4</td>\n",
       "      <td>3.9</td>\n",
       "    </tr>\n",
       "    <tr>\n",
       "      <th>9</th>\n",
       "      <td>6.6</td>\n",
       "      <td>1.3</td>\n",
       "    </tr>\n",
       "  </tbody>\n",
       "</table>\n",
       "</div>"
      ],
      "text/plain": [
       "   hours  scores\n",
       "0    2.3    -0.4\n",
       "1   12.1     3.7\n",
       "2   17.5    12.6\n",
       "3    5.4    -0.2\n",
       "4    0.8    -0.8\n",
       "5   15.5    12.2\n",
       "6   11.8     2.2\n",
       "7   17.6    12.5\n",
       "8   11.4     3.9\n",
       "9    6.6     1.3"
      ]
     },
     "execution_count": 4,
     "metadata": {},
     "output_type": "execute_result"
    }
   ],
   "source": [
    "df.head(10)"
   ]
  },
  {
   "cell_type": "code",
   "execution_count": 5,
   "metadata": {},
   "outputs": [
    {
     "data": {
      "text/plain": [
       "<seaborn.axisgrid.PairGrid at 0x2022081be90>"
      ]
     },
     "execution_count": 5,
     "metadata": {},
     "output_type": "execute_result"
    },
    {
     "data": {
      "image/png": "[encoded data removed]",
      "text/plain": [
       "<Figure size 500x500 with 6 Axes>"
      ]
     },
     "metadata": {},
     "output_type": "display_data"
    }
   ],
   "source": [
    "sns.pairplot(df)"
   ]
  },
  {
   "cell_type": "markdown",
   "metadata": {},
   "source": [
    "Since we are interested in the association between hours and score, we also take a look at the scatterplot."
   ]
  },
  {
   "cell_type": "code",
   "execution_count": 6,
   "metadata": {},
   "outputs": [
    {
     "data": {
      "image/png": "[encoded data removed]",
      "text/plain": [
       "<Figure size 800x600 with 1 Axes>"
      ]
     },
     "metadata": {},
     "output_type": "display_data"
    }
   ],
   "source": [
    "fig, ax = plt.subplots(figsize=(8, 6))\n",
    "\n",
    "ax.scatter(df.hours, df.scores);\n",
    "\n",
    "ax.set_xlabel(\"hours\");\n",
    "ax.set_ylabel(\"score\");"
   ]
  },
  {
   "cell_type": "markdown",
   "metadata": {},
   "source": [
    "## 1. Linear regression"
   ]
  },
  {
   "cell_type": "markdown",
   "metadata": {},
   "source": [
    "The first algorithm that every machine learner has to learn, is linear regression. Maybe, you have already heared about it in previous statistics classes or during secundary school? We will start with simple linear regression, where there is only 1 predictive feature. We will use 'property_tax' to try to predict the 'tx_price'. We first take a look at the scatterplot."
   ]
  },
  {
   "cell_type": "markdown",
   "metadata": {},
   "source": [
    "## 1.1 Training A simple linear model\n",
    "\n",
    "First import the right function"
   ]
  },
  {
   "cell_type": "code",
   "execution_count": 8,
   "metadata": {},
   "outputs": [],
   "source": [
    "from sklearn.linear_model import LinearRegression"
   ]
  },
  {
   "cell_type": "markdown",
   "metadata": {},
   "source": [
    "Next define the object that will hold the model\n"
   ]
  },
  {
   "cell_type": "code",
   "execution_count": 44,
   "metadata": {},
   "outputs": [],
   "source": [
    "reg = LinearRegression()"
   ]
  },
  {
   "cell_type": "markdown",
   "metadata": {},
   "source": [
    "Next fit the model\n"
   ]
  },
  {
   "cell_type": "code",
   "execution_count": 45,
   "metadata": {},
   "outputs": [
    {
     "data": {
      "text/plain": [
       "LinearRegression(copy_X=True, fit_intercept=True, n_jobs=None, normalize=False)"
      ]
     },
     "execution_count": 45,
     "metadata": {},
     "output_type": "execute_result"
    }
   ],
   "source": [
    "reg.fit(np.array(df['hours']).reshape(-1, 1), df['scores'])"
   ]
  },
  {
   "cell_type": "markdown",
   "metadata": {},
   "source": [
    "Pandas object werkt niet binnen .fit functie, heeft np.array nodig => transformeren via np.array\n",
    "\n",
    "Now we predict all observations in our dataset and add these to our plot."
   ]
  },
  {
   "cell_type": "code",
   "execution_count": 46,
   "metadata": {},
   "outputs": [],
   "source": [
    "predictions_plot = reg.predict(np.arange(0,21).reshape(-1, 1))\n",
    "\n",
    "\n",
    "predictions = reg.predict(np.array(df['hours']).reshape(-1, 1))\n"
   ]
  },
  {
   "cell_type": "code",
   "execution_count": 47,
   "metadata": {},
   "outputs": [
    {
     "data": {
      "image/png": "[encoded data removed]",
      "text/plain": [
       "<Figure size 576x432 with 1 Axes>"
      ]
     },
     "metadata": {},
     "output_type": "display_data"
    }
   ],
   "source": [
    "fig, ax = plt.subplots(figsize=(8, 6))\n",
    "plt.scatter(df.hours, df.scores, label='data')\n",
    "plt.plot(np.arange(0,21), predictions_plot, c='r', label='prediction')\n",
    "plt.axis('tight')\n",
    "plt.legend()\n",
    "plt.title(\"Linear Regression\")\n",
    "ax.set_xlabel(\"hours\");\n",
    "ax.set_ylabel(\"scores\");\n",
    "plt.tight_layout()\n",
    "plt.show()"
   ]
  },
  {
   "cell_type": "markdown",
   "metadata": {},
   "source": [
    "We can ask for the values of the intercept and regressioncoefficient as follows:"
   ]
  },
  {
   "cell_type": "code",
   "execution_count": 48,
   "metadata": {},
   "outputs": [
    {
     "data": {
      "text/plain": [
       "[-3.0309007288672776, array([0.80122676])]"
      ]
     },
     "execution_count": 48,
     "metadata": {},
     "output_type": "execute_result"
    }
   ],
   "source": [
    " [reg.intercept_, reg.coef_] "
   ]
  },
  {
   "cell_type": "markdown",
   "metadata": {},
   "source": [
    "Terug naar slides gaan."
   ]
  },
  {
   "cell_type": "markdown",
   "metadata": {},
   "source": [
    "Now, let's evaluate how good our model is. We will ask python to compare the predictions with the true values."
   ]
  },
  {
   "cell_type": "code",
   "execution_count": 13,
   "metadata": {},
   "outputs": [
    {
     "name": "stdout",
     "output_type": "stream",
     "text": [
      "Mean squared error: 5.323\n",
      "R2 score: 0.80\n",
      "0.8018449956919474\n"
     ]
    }
   ],
   "source": [
    "from sklearn.metrics import mean_squared_error, r2_score\n",
    "print(\"Mean squared error: %.3f\"\n",
    "      % mean_squared_error(df['scores'], predictions))\n",
    "\n",
    "print('R2 score: %.2f' % r2_score(df['scores'], predictions))\n",
    "\n",
    "print(reg.score(np.array(df['hours']).reshape(-1, 1), df['scores']))  # other way to get R^2"
   ]
  },
  {
   "cell_type": "markdown",
   "metadata": {},
   "source": [
    "## 1.2 Train-test split"
   ]
  },
  {
   "cell_type": "markdown",
   "metadata": {},
   "source": [
    "Ok, we have a R2-value of 0.80. This means we can explain 80% of the variation in our model. But, wait, what did we just do? We evaluated our model on the same data the model was build upon. That is not fair! That's like taking an exam where you know the questions and answers up front. Offcourse, you are going to do well. If we want to be able to evaluate our model fairly, we ALWAYS need to set aside part of the data just for testing. This is called, the test-training split. Luckily, there is a function for this in python. It does require splitting up the features (X) and the target (y). "
   ]
  },
  {
   "cell_type": "code",
   "execution_count": 8,
   "metadata": {},
   "outputs": [
    {
     "ename": "ModuleNotFoundError",
     "evalue": "No module named 'sklearn'",
     "output_type": "error",
     "traceback": [
      "\u001b[1;31m---------------------------------------------------------------------------\u001b[0m",
      "\u001b[1;31mModuleNotFoundError\u001b[0m                       Traceback (most recent call last)",
      "Cell \u001b[1;32mIn[8], line 2\u001b[0m\n\u001b[0;32m      1\u001b[0m \u001b[39m# Import the function\u001b[39;00m\n\u001b[1;32m----> 2\u001b[0m \u001b[39mfrom\u001b[39;00m \u001b[39msklearn\u001b[39;00m\u001b[39m.\u001b[39;00m\u001b[39mmodel_selection\u001b[39;00m \u001b[39mimport\u001b[39;00m train_test_split\n\u001b[0;32m      4\u001b[0m \u001b[39m# shuffle the data first (to make sure the test set resembles the training set)\u001b[39;00m\n\u001b[0;32m      6\u001b[0m \u001b[39mfrom\u001b[39;00m \u001b[39mrandom\u001b[39;00m \u001b[39mimport\u001b[39;00m Random\n",
      "\u001b[1;31mModuleNotFoundError\u001b[0m: No module named 'sklearn'"
     ]
    }
   ],
   "source": [
    "# Import the function\n",
    "from sklearn.model_selection import train_test_split\n",
    "\n",
    "# shuffle the data first (to make sure the test set resembles the training set)\n",
    "\n",
    "from random import Random\n",
    "df_shuffle = df.sample(frac=1, random_state=40)\n",
    "\n",
    "\n",
    "# Split of feaures and outcomes\n",
    "X = df_shuffle['year_built']\n",
    "y = df_shuffle['tx_price']\n",
    "\n",
    "# Perform train/test-split\n",
    "X_train, X_test, y_train, y_test = train_test_split(X, y, test_size=0.2, random_state=1234)\n",
    "\n",
    "# To simplify the code later on, we convert to a numpy-array here (only needed with 1 feature)\n",
    "X_test = np.array(X_test).reshape(-1, 1)\n",
    "X_train = np.array(X_train).reshape(-1, 1)\n"
   ]
  },
  {
   "cell_type": "markdown",
   "metadata": {},
   "source": [
    "The 'test_size'-argument determines how much of the data is in the test-set. Here, this will be 20%. The random state sets a seed, to ensure that the split is done exactly the same every time we run this line of code."
   ]
  },
  {
   "cell_type": "markdown",
   "metadata": {},
   "source": [
    "Now we will retrain the model on the training dataset and test it on the test dataset."
   ]
  },
  {
   "cell_type": "code",
   "execution_count": 50,
   "metadata": {},
   "outputs": [
    {
     "data": {
      "text/plain": [
       "LinearRegression(copy_X=True, fit_intercept=True, n_jobs=None, normalize=False)"
      ]
     },
     "execution_count": 50,
     "metadata": {},
     "output_type": "execute_result"
    }
   ],
   "source": [
    "reg.fit(X_train, y_train)"
   ]
  },
  {
   "cell_type": "markdown",
   "metadata": {},
   "source": [
    "### 1.3 Evaluating the model\n",
    "First, we make predictions for the test set. Now, we can compare these predictions with the true values"
   ]
  },
  {
   "cell_type": "code",
   "execution_count": 51,
   "metadata": {},
   "outputs": [],
   "source": [
    "predictions = reg.predict(X_test)"
   ]
  },
  {
   "cell_type": "markdown",
   "metadata": {},
   "source": [
    "### 1.3.1 Coefficient of determination"
   ]
  },
  {
   "cell_type": "markdown",
   "metadata": {},
   "source": [
    "For illustration purposes, we also calculate the training reliability. (This can also help us to detect overfitting - see later)"
   ]
  },
  {
   "cell_type": "code",
   "execution_count": 52,
   "metadata": {
    "scrolled": true
   },
   "outputs": [
    {
     "data": {
      "text/plain": [
       "0.8267449266210571"
      ]
     },
     "execution_count": 52,
     "metadata": {},
     "output_type": "execute_result"
    }
   ],
   "source": [
    "reg.score(X_train, y_train)"
   ]
  },
  {
   "cell_type": "code",
   "execution_count": 53,
   "metadata": {},
   "outputs": [
    {
     "data": {
      "text/plain": [
       "0.626738806132191"
      ]
     },
     "execution_count": 53,
     "metadata": {},
     "output_type": "execute_result"
    }
   ],
   "source": [
    "reg.score(np.array(X_test).reshape(-1, 1), y_test)"
   ]
  },
  {
   "cell_type": "code",
   "execution_count": 55,
   "metadata": {},
   "outputs": [
    {
     "data": {
      "text/plain": [
       "0.626738806132191"
      ]
     },
     "execution_count": 55,
     "metadata": {},
     "output_type": "execute_result"
    }
   ],
   "source": [
    "#alternative code\n",
    "from sklearn.metrics import r2_score\n",
    "r2_score(y_test, predictions)\n"
   ]
  },
  {
   "cell_type": "markdown",
   "metadata": {},
   "source": [
    "We see that the training R^2 is 81%, while the test R^2 is only 62.7%. This clearly shows that you have to use the test data to fairly evaluate your model. \n",
    "\n",
    "### 1.3.2 Mean absolute error\n"
   ]
  },
  {
   "cell_type": "code",
   "execution_count": 20,
   "metadata": {},
   "outputs": [
    {
     "data": {
      "text/plain": [
       "2.463407137413996"
      ]
     },
     "execution_count": 20,
     "metadata": {},
     "output_type": "execute_result"
    }
   ],
   "source": [
    "from sklearn.metrics import mean_absolute_error\n",
    "\n",
    "mean_absolute_error(y_test, predictions)\n"
   ]
  },
  {
   "cell_type": "markdown",
   "metadata": {},
   "source": [
    "There is an error of 2.46 points for the exam."
   ]
  },
  {
   "cell_type": "markdown",
   "metadata": {},
   "source": [
    "### 1.3.3 Mean squared error"
   ]
  },
  {
   "cell_type": "code",
   "execution_count": 21,
   "metadata": {},
   "outputs": [
    {
     "data": {
      "text/plain": [
       "7.481311434811881"
      ]
     },
     "execution_count": 21,
     "metadata": {},
     "output_type": "execute_result"
    }
   ],
   "source": [
    "from sklearn.metrics import mean_squared_error\n",
    "\n",
    "mean_squared_error(y_test, predictions)\n"
   ]
  },
  {
   "cell_type": "markdown",
   "metadata": {},
   "source": [
    "It is always difficult to say if these models are good or bad. Is a MSE of 6.05 good or bad? That depends on the context. The quality measures are mainly used to compare different models to each other."
   ]
  },
  {
   "cell_type": "markdown",
   "metadata": {},
   "source": [
    "In our plot, we can clearly see that our model does not follow the real curve. We say that this model is underfitted: the model is not able to capture the patterns in the data. We will try to improve the model by using polynomials."
   ]
  },
  {
   "cell_type": "markdown",
   "metadata": {},
   "source": [
    "# 2. Polynomial regression\n",
    "\n",
    "Doing polynomial regression in python is slightly inconvenient, since we have to design the features explicitly, rather than just call them through some function interface. However, the PolynomialFeatures library is a pretty powerful way of building higher orders quickly.\n",
    "\n",
    "Before we take it a step further, we will first standardize the feature. Rembember to also transform the test dataset. This wil reduce the numeric values of the feature, which is highly important once exotic transformations will be applied "
   ]
  },
  {
   "cell_type": "code",
   "execution_count": 22,
   "metadata": {},
   "outputs": [],
   "source": [
    "from sklearn.preprocessing import StandardScaler\n",
    "scaler = StandardScaler()\n",
    "\n",
    "\n",
    "\n",
    "\n",
    "X_train_stan = scaler.fit_transform(X_train)\n",
    "\n",
    "X_test_stan = scaler.transform(X_test)"
   ]
  },
  {
   "cell_type": "markdown",
   "metadata": {},
   "source": [
    "## 2.1 quadratic"
   ]
  },
  {
   "cell_type": "code",
   "execution_count": 23,
   "metadata": {},
   "outputs": [
    {
     "name": "stdout",
     "output_type": "stream",
     "text": [
      "[[ 1.00000000e+00  1.16748469e+00  1.36302050e+00]\n",
      " [ 1.00000000e+00  3.03171189e-01  9.19127701e-02]\n",
      " [ 1.00000000e+00  4.44283598e-01  1.97387915e-01]\n",
      " [ 1.00000000e+00  8.49981771e-01  7.22469011e-01]\n",
      " [ 1.00000000e+00 -3.19707800e-02  1.02213077e-03]\n",
      " [ 1.00000000e+00  1.64373907e+00  2.70187812e+00]\n",
      " [ 1.00000000e+00 -1.40781676e+00  1.98194803e+00]\n",
      " [ 1.00000000e+00 -1.05503574e+00  1.11310041e+00]\n",
      " [ 1.00000000e+00  1.59082191e+00  2.53071436e+00]\n",
      " [ 1.00000000e+00  8.85259873e-01  7.83685043e-01]\n",
      " [ 1.00000000e+00 -1.74295873e+00  3.03790513e+00]\n",
      " [ 1.00000000e+00  6.38313159e-01  4.07443689e-01]\n",
      " [ 1.00000000e+00 -9.84479535e-01  9.69199955e-01]\n",
      " [ 1.00000000e+00  1.79697832e-01  3.22913109e-02]\n",
      " [ 1.00000000e+00 -7.90449974e-01  6.24811161e-01]\n",
      " [ 1.00000000e+00 -7.02254719e-01  4.93161690e-01]\n",
      " [ 1.00000000e+00 -5.61142311e-01  3.14880693e-01]\n",
      " [ 1.00000000e+00 -2.78917494e-01  7.77949686e-02]\n",
      " [ 1.00000000e+00 -5.25864208e-01  2.76533166e-01]\n",
      " [ 1.00000000e+00  9.91094179e-01  9.82267672e-01]\n",
      " [ 1.00000000e+00 -1.63712442e+00  2.68017638e+00]\n",
      " [ 1.00000000e+00 -6.66976617e-01  4.44857807e-01]\n",
      " [ 1.00000000e+00  5.85396006e-01  3.42688483e-01]\n",
      " [ 1.00000000e+00 -1.72531968e+00  2.97672799e+00]\n",
      " [ 1.00000000e+00 -1.33726056e+00  1.78826579e+00]\n",
      " [ 1.00000000e+00 -1.67240252e+00  2.79693020e+00]\n",
      " [ 1.00000000e+00  8.14703669e-01  6.63742068e-01]\n",
      " [ 1.00000000e+00  5.50117904e-01  3.02629708e-01]\n",
      " [ 1.00000000e+00 -1.17850910e+00  1.38888369e+00]\n",
      " [ 1.00000000e+00  5.85396006e-01  3.42688483e-01]\n",
      " [ 1.00000000e+00 -7.19893770e-01  5.18247040e-01]\n",
      " [ 1.00000000e+00  1.97336883e-01  3.89418455e-02]\n",
      " [ 1.00000000e+00 -8.08089025e-01  6.53007872e-01]\n",
      " [ 1.00000000e+00  1.59082191e+00  2.53071436e+00]\n",
      " [ 1.00000000e+00  1.02637228e+00  1.05344006e+00]\n",
      " [ 1.00000000e+00 -1.24906530e+00  1.56016412e+00]\n",
      " [ 1.00000000e+00 -1.44309486e+00  2.08252278e+00]\n",
      " [ 1.00000000e+00  1.07928943e+00  1.16486568e+00]\n",
      " [ 1.00000000e+00 -5.96420413e-01  3.55717309e-01]\n",
      " [ 1.00000000e+00  7.61786516e-01  5.80318696e-01]\n",
      " [ 1.00000000e+00  7.38635261e-02  5.45582049e-03]\n",
      " [ 1.00000000e+00 -4.02390851e-01  1.61918397e-01]\n",
      " [ 1.00000000e+00 -9.66840484e-01  9.34780521e-01]\n",
      " [ 1.00000000e+00  1.06165038e+00  1.12710154e+00]\n",
      " [ 1.00000000e+00  1.07928943e+00  1.16486568e+00]\n",
      " [ 1.00000000e+00 -5.43503260e-01  2.95395793e-01]\n",
      " [ 1.00000000e+00 -8.48879330e-02  7.20596117e-03]\n",
      " [ 1.00000000e+00 -1.14323099e+00  1.30697711e+00]\n",
      " [ 1.00000000e+00  6.20674108e-01  3.85236348e-01]\n",
      " [ 1.00000000e+00  1.14984564e+00  1.32214499e+00]\n",
      " [ 1.00000000e+00 -4.90586106e-01  2.40674728e-01]\n",
      " [ 1.00000000e+00 -1.51365107e+00  2.29113955e+00]\n",
      " [ 1.00000000e+00 -8.25728076e-01  6.81826855e-01]\n",
      " [ 1.00000000e+00 -1.05503574e+00  1.11310041e+00]\n",
      " [ 1.00000000e+00 -1.69004158e+00  2.85624053e+00]\n",
      " [ 1.00000000e+00  3.56088342e-01  1.26798908e-01]\n",
      " [ 1.00000000e+00  1.27331900e+00  1.62134126e+00]\n",
      " [ 1.00000000e+00  1.41443140e+00  2.00061620e+00]\n",
      " [ 1.00000000e+00  4.61922649e-01  2.13372533e-01]\n",
      " [ 1.00000000e+00  6.20674108e-01  3.85236348e-01]\n",
      " [ 1.00000000e+00 -1.01975764e+00  1.03990564e+00]\n",
      " [ 1.00000000e+00 -8.78645229e-01  7.72017438e-01]\n",
      " [ 1.00000000e+00 -8.78645229e-01  7.72017438e-01]\n",
      " [ 1.00000000e+00  1.79697832e-01  3.22913109e-02]\n",
      " [ 1.00000000e+00  1.32623615e+00  1.75890232e+00]\n",
      " [ 1.00000000e+00  1.25567994e+00  1.57673212e+00]\n",
      " [ 1.00000000e+00  1.79697832e-01  3.22913109e-02]\n",
      " [ 1.00000000e+00  5.85396006e-01  3.42688483e-01]\n",
      " [ 1.00000000e+00  9.91094179e-01  9.82267672e-01]\n",
      " [ 1.00000000e+00  6.03035057e-01  3.63651280e-01]\n",
      " [ 1.00000000e+00  3.38449291e-01  1.14547923e-01]\n",
      " [ 1.00000000e+00  4.26644547e-01  1.82025569e-01]\n",
      " [ 1.00000000e+00  1.09692849e+00  1.20325210e+00]\n",
      " [ 1.00000000e+00 -8.08089025e-01  6.53007872e-01]\n",
      " [ 1.00000000e+00  1.59082191e+00  2.53071436e+00]\n",
      " [ 1.00000000e+00 -1.00211859e+00  1.00424166e+00]\n",
      " [ 1.00000000e+00  9.02898924e-01  8.15226467e-01]\n",
      " [ 1.00000000e+00  1.30859710e+00  1.71242636e+00]\n",
      " [ 1.00000000e+00 -1.37253866e+00  1.88386237e+00]\n",
      " [ 1.00000000e+00  1.00873323e+00  1.01754273e+00]]\n"
     ]
    }
   ],
   "source": [
    "from sklearn.preprocessing import PolynomialFeatures\n",
    "\n",
    "# First design the features\n",
    "\n",
    "poly = PolynomialFeatures(degree=2)\n",
    "X_train_poly = poly.fit_transform(X_train_stan)\n",
    "X_test_poly = poly.transform(X_test_stan)\n",
    "print(X_train_poly)\n"
   ]
  },
  {
   "cell_type": "markdown",
   "metadata": {},
   "source": [
    "In our nex dataset, we have the intercept (the colomns of 1's), X (the second column) and X^2 (the third column)."
   ]
  },
  {
   "cell_type": "code",
   "execution_count": 24,
   "metadata": {},
   "outputs": [
    {
     "name": "stdout",
     "output_type": "stream",
     "text": [
      "0.9113051591435396\n",
      "0.8306893052901168\n"
     ]
    }
   ],
   "source": [
    "# Then perform a linear regression on them. \n",
    "#Since the polynomial object already contains an intercept, we should drop it in the function call\n",
    "\n",
    "reg_quad = LinearRegression(fit_intercept=False)\n",
    "reg_quad.fit(X_train_poly, y_train)\n",
    "print(reg_quad.score(X_train_poly, y_train))\n",
    "print(reg_quad.score(X_test_poly, y_test))"
   ]
  },
  {
   "cell_type": "markdown",
   "metadata": {},
   "source": [
    "Let's take a look at our plot now."
   ]
  },
  {
   "cell_type": "code",
   "execution_count": 25,
   "metadata": {},
   "outputs": [],
   "source": [
    "# Here, I predict all values between 0 and 20, which I will use in the plot\n",
    "pred_input = poly.fit_transform(scaler.transform(np.arange(0,21).reshape(-1, 1)))\n",
    "fit_reg_quad = reg_quad.predict(pred_input)\n",
    "\n"
   ]
  },
  {
   "cell_type": "code",
   "execution_count": 26,
   "metadata": {},
   "outputs": [
    {
     "data": {
      "image/png": "[encoded data removed]",
      "text/plain": [
       "<Figure size 576x432 with 1 Axes>"
      ]
     },
     "metadata": {},
     "output_type": "display_data"
    }
   ],
   "source": [
    "fig, ax = plt.subplots(figsize=(8, 6))\n",
    "plt.scatter(df.hours, df.scores, label='data')\n",
    "plt.plot(np.arange(0,21), predictions_plot, c='r', label='linear')\n",
    "plt.plot(np.arange(0,21), fit_reg_quad, c='b', label='quadratic')\n",
    "\n",
    "plt.axis('tight')\n",
    "plt.legend()\n",
    "plt.title(\"Linear Regression-quadratic\")\n",
    "ax.set_xlabel(\"hours\");\n",
    "ax.set_ylabel(\"scores\");\n",
    "plt.tight_layout()\n",
    "plt.show()"
   ]
  },
  {
   "cell_type": "markdown",
   "metadata": {},
   "source": [
    "## 2.2 Higher order polynomial model"
   ]
  },
  {
   "cell_type": "code",
   "execution_count": 26,
   "metadata": {},
   "outputs": [
    {
     "name": "stdout",
     "output_type": "stream",
     "text": [
      "0.9237008733873131\n",
      "0.8037352774999502\n"
     ]
    },
    {
     "data": {
      "image/png": "[encoded data removed]",
      "text/plain": [
       "<Figure size 576x432 with 1 Axes>"
      ]
     },
     "metadata": {},
     "output_type": "display_data"
    }
   ],
   "source": [
    "#play with the degree to see the effect of the order\n",
    "poly = PolynomialFeatures(degree=10)\n",
    "X_train_poly = poly.fit_transform(X_train_stan)\n",
    "X_test_poly = poly.transform(X_test_stan)\n",
    "\n",
    "\n",
    "# Then perform a linear regression on them. \n",
    "#Since the polynomial object already contains an intercept, we should drop it in the function call\n",
    "\n",
    "reg_poly = LinearRegression(fit_intercept=False)\n",
    "reg_poly.fit(X_train_poly, y_train)\n",
    "print(reg_poly.score(X_train_poly, y_train))\n",
    "print(reg_poly.score(X_test_poly, y_test))\n",
    "\n",
    "#plot\n",
    "pred_input = poly.fit_transform(scaler.transform(np.arange(1,19).reshape(-1, 1)))\n",
    "fit_reg_poly = reg_poly.predict(pred_input)\n",
    "fig, ax = plt.subplots(figsize=(8, 6))\n",
    "plt.scatter(df.hours, df.scores, label='data')\n",
    "plt.plot(np.arange(0,21), predictions_plot, c='r', label='linear')\n",
    "plt.plot(np.arange(0,21), fit_reg_quad, c='b', label='quadratic')\n",
    "plt.plot(np.arange(1,19), fit_reg_poly, c='g', label='order 40')\n",
    "\n",
    "plt.axis('tight')\n",
    "plt.legend()\n",
    "plt.title(\"Linear Regression-quadratic\")\n",
    "ax.set_xlabel(\"hours\");\n",
    "ax.set_ylabel(\"scores\");\n",
    "plt.tight_layout()\n",
    "plt.show()\n"
   ]
  },
  {
   "cell_type": "markdown",
   "metadata": {},
   "source": [
    "Did you notice that we had to perform every step on both the training and test dataset? If we would get a new dataset to predict, it would also need to go trough every step. Wouldn't it be much easier if we could do all of this in one go? This is exactly what pipelines do. So, we will make a pipeline that does the standardisation, designs the polynomial features and performs the linear regression "
   ]
  },
  {
   "cell_type": "code",
   "execution_count": 27,
   "metadata": {
    "scrolled": true
   },
   "outputs": [
    {
     "name": "stdout",
     "output_type": "stream",
     "text": [
      "0.9159773402878992\n",
      "0.8360929862326211\n"
     ]
    }
   ],
   "source": [
    "from sklearn.pipeline import Pipeline\n",
    "import numpy as np\n",
    "reg_3 = Pipeline([('stand', StandardScaler()),\n",
    "                  ('poly', PolynomialFeatures(degree=3)),\n",
    "                  ('linear', LinearRegression(fit_intercept=False))])\n",
    "\n",
    "reg_3.fit(X_train, y_train)\n",
    "print(reg_3.score(X_train,y_train))\n",
    "print(reg_3.score(X_test,y_test))"
   ]
  },
  {
   "cell_type": "markdown",
   "metadata": {},
   "source": [
    "## 2.3 Cross-validation to select the best order\n",
    "We will perform cross-validation to select the order that results in the best R2 in the test-set. We vary the order of the polynomial through a for-loop, but the mechanics of the cross-validation are not made explicit in a loop: they are hidden inside the cross_val_score function. In that function, the 5-fold cross-validation takes place, so 5 sets of test values are generated (we use 'r2' here to get the R2). We will print out the average of the 5 R2's."
   ]
  },
  {
   "cell_type": "code",
   "execution_count": 28,
   "metadata": {
    "scrolled": true
   },
   "outputs": [
    {
     "name": "stdout",
     "output_type": "stream",
     "text": [
      "Order 0: avg R^2 = -0.2538383511016077\n",
      "Order 1: avg R^2 = 0.7759301380552069\n",
      "Order 2: avg R^2 = 0.8874246619510266\n",
      "Order 3: avg R^2 = 0.8917089127627789\n",
      "Order 4: avg R^2 = 0.8933321155075452\n",
      "Order 5: avg R^2 = 0.8936443156249444\n",
      "Order 6: avg R^2 = 0.8892350869144264\n",
      "Order 7: avg R^2 = 0.88773393118153\n",
      "Order 8: avg R^2 = 0.8820607511884999\n",
      "Order 9: avg R^2 = 0.8819733383062311\n",
      "Order 10: avg R^2 = 0.8699195237750029\n",
      "Order 11: avg R^2 = 0.8512889337967394\n",
      "Order 12: avg R^2 = 0.8535658199276863\n",
      "Order 13: avg R^2 = 0.8390226571263815\n",
      "Order 14: avg R^2 = 0.8686820755890243\n",
      "Order 15: avg R^2 = -1.5246957255211109\n",
      "Order 16: avg R^2 = -2.088451469219859\n",
      "Order 17: avg R^2 = 0.37279371103799325\n",
      "Order 18: avg R^2 = -5.272744233800581\n",
      "Order 19: avg R^2 = -10.056213840051228\n"
     ]
    }
   ],
   "source": [
    "from sklearn.model_selection import cross_val_score\n",
    "\n",
    "avg_scores = [None] * 20\n",
    "\n",
    "for i in np.arange(0,20):\n",
    "    \n",
    "    reg_poly = Pipeline([('stand', StandardScaler()),\n",
    "                  ('poly', PolynomialFeatures(degree=i)),\n",
    "                  ('linear', LinearRegression(fit_intercept=False))])\n",
    "    \n",
    "    scores = cross_val_score(reg_poly, X_train, y_train, scoring = 'r2', cv=5)\n",
    "    \n",
    "    avg_scores[i] = scores.mean()\n",
    "    \n",
    "    print(\"Order \"+str(i)+\": avg R^2 = \"+str( avg_scores[i]))"
   ]
  },
  {
   "cell_type": "markdown",
   "metadata": {},
   "source": [
    "We can also make a nice plot of these."
   ]
  },
  {
   "cell_type": "code",
   "execution_count": 57,
   "metadata": {},
   "outputs": [
    {
     "data": {
      "image/png": "[encoded data removed]",
      "text/plain": [
       "<Figure size 576x432 with 1 Axes>"
      ]
     },
     "metadata": {},
     "output_type": "display_data"
    }
   ],
   "source": [
    "fig, ax = plt.subplots(figsize=(8, 6))\n",
    "plt.scatter(np.arange(0,20), avg_scores, c='b', label='data')\n",
    "plt.axis('tight')\n",
    "plt.title(\"Cross-validation polynomials\")\n",
    "plt.xticks([0,2,4,6,8,10,12,14,16,18,20])\n",
    "ax.set_xlabel(\"Order\");\n",
    "ax.set_ylabel(\"CV R^2\");\n",
    "plt.tight_layout()\n",
    "plt.show()"
   ]
  },
  {
   "cell_type": "markdown",
   "metadata": {},
   "source": [
    "We can clearly see the overfitting from order 15 and higher. They perform very bad on the test set. Order 0 (just taking the average, is als not performing well (do to underfitting). I'm going to zoom in on the order 1 to 14 to get a better view."
   ]
  },
  {
   "cell_type": "code",
   "execution_count": 32,
   "metadata": {},
   "outputs": [
    {
     "data": {
      "image/png": "[encoded data removed]",
      "text/plain": [
       "<Figure size 576x432 with 1 Axes>"
      ]
     },
     "metadata": {},
     "output_type": "display_data"
    }
   ],
   "source": [
    "fig, ax = plt.subplots(figsize=(8, 6))\n",
    "plt.scatter(np.arange(1,15), avg_scores[1:15], c='b', label='data')\n",
    "plt.axis('tight')\n",
    "plt.title(\"Cross-validation polynomials\")\n",
    "ax.set_xlabel(\"Order\");\n",
    "ax.set_ylabel(\"CV R^2\");\n",
    "plt.tight_layout()\n",
    "plt.show()"
   ]
  },
  {
   "cell_type": "markdown",
   "metadata": {},
   "source": [
    "Now we can see that the best order  is between 2 and 7. A very common strategy is to add error bars, based on the standard error on the mean of the 5 cv values. You then take the lower error bar of the order with the best average R2, and subsequently find the lowest order (least complicated model) that has its average R2 above that bar."
   ]
  },
  {
   "cell_type": "code",
   "execution_count": 33,
   "metadata": {},
   "outputs": [
    {
     "name": "stdout",
     "output_type": "stream",
     "text": [
      "The order with maximum R^2 is 5\n"
     ]
    },
    {
     "data": {
      "image/png": "[encoded data removed]",
      "text/plain": [
       "<Figure size 576x432 with 1 Axes>"
      ]
     },
     "metadata": {},
     "output_type": "display_data"
    }
   ],
   "source": [
    "avg_scores = [None] * 20\n",
    "sd_scores = [None] * 20\n",
    "for i in np.arange(0,20):\n",
    "    reg_poly = Pipeline([('stand', StandardScaler()),\n",
    "                  ('poly', PolynomialFeatures(degree=i)),\n",
    "                  ('linear', LinearRegression(fit_intercept=False))])\n",
    "    \n",
    "    scores = cross_val_score(reg_poly, X_train, y_train, scoring = 'r2', cv=5)\n",
    "\n",
    "    avg_scores[i] = scores.mean()\n",
    "    sd_scores[i] = np.sqrt(scores.var())/np.sqrt(5)\n",
    "      \n",
    "    \n",
    "max_value = max(avg_scores)\n",
    "max_index = avg_scores.index(max_value)\n",
    "print('The order with maximum R^2 is '+str(max_index))\n",
    "    \n",
    "fig, ax = plt.subplots(figsize=(8, 6))\n",
    "plt.scatter(np.arange(1,15), avg_scores[1:15], c='b', label='data')\n",
    "plt.axhline(y=max_value-1.96*sd_scores[max_index])\n",
    "plt.axis('tight')\n",
    "plt.title(\"Cross-validation polynomials\")\n",
    "ax.set_xlabel(\"Order\");\n",
    "ax.set_ylabel(\"CV R^2\");\n",
    "plt.tight_layout()\n",
    "plt.show()"
   ]
  },
  {
   "cell_type": "markdown",
   "metadata": {},
   "source": [
    "So, the conclusion?\n",
    "\n",
    "The most optimal order is 5, but there's not a lot of evidence that order 2 is really much worse. And since that is a much simpler model, we could choose that.  \n",
    "\n",
    "\n",
    "To not make things overly complicated, we will always just choose the optimal model (but I taught it was important to show you this procedure)\n",
    "\n",
    "\n",
    "The validation score of the optimal model is:"
   ]
  },
  {
   "cell_type": "code",
   "execution_count": 34,
   "metadata": {},
   "outputs": [
    {
     "data": {
      "text/plain": [
       "0.892872462809518"
      ]
     },
     "execution_count": 34,
     "metadata": {},
     "output_type": "execute_result"
    }
   ],
   "source": [
    "scores.max()"
   ]
  },
  {
   "cell_type": "markdown",
   "metadata": {},
   "source": [
    "To wrap up, we retrain our model to the full trainingset and test this model on the test-set"
   ]
  },
  {
   "cell_type": "code",
   "execution_count": 36,
   "metadata": {},
   "outputs": [
    {
     "name": "stdout",
     "output_type": "stream",
     "text": [
      "0.9113051591435396\n",
      "0.8306893052901168\n"
     ]
    }
   ],
   "source": [
    "reg_poly2 = Pipeline([('stand', StandardScaler()),\n",
    "                  ('poly', PolynomialFeatures(degree=2)),\n",
    "                  ('linear', LinearRegression(fit_intercept=False))])\n",
    "reg_poly2.fit(X_train, y_train)\n",
    "print(reg_poly2.score(X_train, y_train))\n",
    "print(reg_poly2.score(X_test, y_test))"
   ]
  },
  {
   "cell_type": "markdown",
   "metadata": {},
   "source": [
    "Note that if you would like to compare several algorithms (as we will do in the next class), you have to use the validation score and leave the test score till the end (till you have chosen your algorithm)"
   ]
  },
  {
   "cell_type": "markdown",
   "metadata": {},
   "source": [
    "Congratulations, you have learned the basics of machine learning! In the next few classes, we will see some more algorithms, but the main idea of regularisation and cross-validation will remain the same."
   ]
  }
 ],
 "metadata": {
  "kernelspec": {
   "display_name": "demo2-X-LeJxTb",
   "language": "python",
   "name": "python3"
  },
  "language_info": {
   "codemirror_mode": {
    "name": "ipython",
    "version": 3
   },
   "file_extension": ".py",
   "mimetype": "text/x-python",
   "name": "python",
   "nbconvert_exporter": "python",
   "pygments_lexer": "ipython3",
   "version": "3.11.2"
  },
  "vscode": {
   "interpreter": {
    "hash": "a957042a0c6e16d84ad66d20872a0bdd1da90e05f1576da92527842ffdd465f2"
   }
  }
 },
 "nbformat": 4,
 "nbformat_minor": 2
}
